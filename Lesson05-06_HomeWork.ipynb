{
 "cells": [
  {
   "cell_type": "code",
   "execution_count": 1,
   "metadata": {},
   "outputs": [],
   "source": [
    "%matplotlib inline\n",
    "import numpy as np\n",
    "import matplotlib.pyplot as plt\n",
    "import scipy.linalg"
   ]
  },
  {
   "cell_type": "markdown",
   "metadata": {},
   "source": [
    "### Практическое задание №5\n"
   ]
  },
  {
   "cell_type": "markdown",
   "metadata": {},
   "source": [
    "5.1.\n",
    "Вектор – это частный случай матрицы 1хN и Nх1. Повторите материал для векторов, уделяя особое внимание умножению A∙B.\n",
    "Вычислите, по возможности не используя программирование: (5Е)–1, где Е – единичная матрица размера 5х5.\n"
   ]
  },
  {
   "cell_type": "code",
   "execution_count": null,
   "metadata": {},
   "outputs": [],
   "source": []
  },
  {
   "cell_type": "code",
   "execution_count": null,
   "metadata": {},
   "outputs": [],
   "source": []
  },
  {
   "cell_type": "markdown",
   "metadata": {},
   "source": [
    "5.2.\n",
    "Вычислите определитель:\n",
    "[[1, 2, 3], [4, 0, 6], [7, 8, 9]]\n"
   ]
  },
  {
   "cell_type": "code",
   "execution_count": 2,
   "metadata": {},
   "outputs": [
    {
     "name": "stdout",
     "output_type": "stream",
     "text": [
      "определитель матрицы: [[1, 2, 3], [4, 0, 6], [7, 8, 9]] равен  36\n"
     ]
    }
   ],
   "source": [
    "D = 1 * (0 * 9 - 8 * 6) + 2 * (4 * 9 - 7 * 6) + 3 * (4 * 8 - 7 * 0)\n",
    "print('определитель матрицы: [[1, 2, 3], [4, 0, 6], [7, 8, 9]] равен ', D)"
   ]
  },
  {
   "cell_type": "code",
   "execution_count": 3,
   "metadata": {},
   "outputs": [],
   "source": [
    "A = np.array([[1, 2, 3], [4, 0, 6], [7, 8, 9]])"
   ]
  },
  {
   "cell_type": "code",
   "execution_count": 4,
   "metadata": {},
   "outputs": [
    {
     "name": "stdout",
     "output_type": "stream",
     "text": [
      "определитель матрицы: [[1, 2, 3], [4, 0, 6], [7, 8, 9]] равен 60.00\n"
     ]
    }
   ],
   "source": [
    "print('определитель матрицы: [[1, 2, 3], [4, 0, 6], [7, 8, 9]] равен %0.2f' % (np.linalg.det(A)))"
   ]
  },
  {
   "cell_type": "markdown",
   "metadata": {},
   "source": [
    "5.3.\n",
    "1. Вычислите матрицу, обратную данной: [[1, 2, 3], [4, 0, 6], [7, 8, 9]]\n"
   ]
  },
  {
   "cell_type": "code",
   "execution_count": 5,
   "metadata": {},
   "outputs": [],
   "source": [
    "A = np.array([[1, 2, 3], [4, 0, 6], [7, 8, 9]])"
   ]
  },
  {
   "cell_type": "code",
   "execution_count": 6,
   "metadata": {},
   "outputs": [
    {
     "name": "stdout",
     "output_type": "stream",
     "text": [
      "обратная матрица от  [[1, 2, 3], [4, 0, 6], [7, 8, 9]] равна:\n",
      " [[-0.8         0.1         0.2       ]\n",
      " [ 0.1        -0.2         0.1       ]\n",
      " [ 0.53333333  0.1        -0.13333333]]\n"
     ]
    }
   ],
   "source": [
    "print('обратная матрица от  [[1, 2, 3], [4, 0, 6], [7, 8, 9]] равна:\\n', (np.linalg.inv(A)))"
   ]
  },
  {
   "cell_type": "code",
   "execution_count": null,
   "metadata": {},
   "outputs": [],
   "source": []
  },
  {
   "cell_type": "markdown",
   "metadata": {},
   "source": [
    "2. Приведите пример матрицы 4х4, ранг которой равен 1.\n"
   ]
  },
  {
   "cell_type": "code",
   "execution_count": 7,
   "metadata": {},
   "outputs": [],
   "source": [
    "C = np.array([[1, -1, 2, 1], [0, 0, 0, 0], [0, 0, 0, 0 ], [0, 0, 0, 0]])"
   ]
  },
  {
   "cell_type": "code",
   "execution_count": 8,
   "metadata": {},
   "outputs": [
    {
     "name": "stdout",
     "output_type": "stream",
     "text": [
      "ранг матрицы от  [[1, 2, 3], [4, 0, 6], [7, 8, 9]] равен:\n",
      " 1\n"
     ]
    }
   ],
   "source": [
    "print('ранг матрицы от  [[1, 2, 3], [4, 0, 6], [7, 8, 9]] равен:\\n', (np.linalg.matrix_rank(C)))"
   ]
  },
  {
   "cell_type": "code",
   "execution_count": null,
   "metadata": {},
   "outputs": [],
   "source": []
  },
  {
   "cell_type": "markdown",
   "metadata": {},
   "source": [
    "5.4.\n",
    "Вычислите скалярное произведение двух векторов:  \n",
    "(1, 5)  и  (2, 8)"
   ]
  },
  {
   "cell_type": "code",
   "execution_count": 9,
   "metadata": {},
   "outputs": [
    {
     "name": "stdout",
     "output_type": "stream",
     "text": [
      " скалярное произведение двух векторов (1, 5)  и  (2, 8) равно:\n",
      " 42\n"
     ]
    }
   ],
   "source": [
    "print(' скалярное произведение двух векторов (1, 5)  и  (2, 8) равно:\\n', (1 * 2 + 5 * 8))"
   ]
  },
  {
   "cell_type": "code",
   "execution_count": null,
   "metadata": {},
   "outputs": [],
   "source": []
  },
  {
   "cell_type": "markdown",
   "metadata": {},
   "source": [
    "5.5\n",
    "Вычислите смешанное произведение трех векторов:\n",
    "(1, 5, 0), (2, 8, 7) и (7, 1.5, 3) \n"
   ]
  },
  {
   "cell_type": "code",
   "execution_count": 10,
   "metadata": {},
   "outputs": [],
   "source": [
    "# Смешанное произведение векторов равно определителю матрицы, составленной из этих векторов.\n",
    "C = np.array([[1, 5, 0], [2, 8, 7], [7, 1.5, 3]])"
   ]
  },
  {
   "cell_type": "code",
   "execution_count": 11,
   "metadata": {},
   "outputs": [
    {
     "name": "stdout",
     "output_type": "stream",
     "text": [
      "Вычислите смешанное произведение трех векторов: ((1, 5, 0), (2, 8, 7) и (7, 1.5, 3)) равна 228.50\n"
     ]
    }
   ],
   "source": [
    "print('Вычислите смешанное произведение трех векторов: ((1, 5, 0), (2, 8, 7) и (7, 1.5, 3)) равна %0.2f' % (np.linalg.det(C)))"
   ]
  },
  {
   "cell_type": "markdown",
   "metadata": {},
   "source": [
    "### Практическое задание №6\n"
   ]
  },
  {
   "cell_type": "markdown",
   "metadata": {},
   "source": [
    "1. Решите линейную систему:\n"
   ]
  },
  {
   "cell_type": "code",
   "execution_count": 12,
   "metadata": {},
   "outputs": [],
   "source": [
    "M1 = np.array([[1, 2, 3], [4, 0, 6], [7, 8, 9]])\n",
    "V1 = np.array([12, 2, 1])"
   ]
  },
  {
   "cell_type": "code",
   "execution_count": 13,
   "metadata": {},
   "outputs": [
    {
     "data": {
      "text/plain": [
       "array([-9.2       ,  0.9       ,  6.46666667])"
      ]
     },
     "execution_count": 13,
     "metadata": {},
     "output_type": "execute_result"
    }
   ],
   "source": [
    "np.linalg.solve(M1, V1)"
   ]
  },
  {
   "cell_type": "code",
   "execution_count": null,
   "metadata": {},
   "outputs": [],
   "source": []
  },
  {
   "cell_type": "markdown",
   "metadata": {},
   "source": [
    "2. Найдите псевдорешение:\n",
    "x + 2y – z = 1\n",
    "3x – 4y = 7\n",
    "8x – 5y + 2z = 12\n",
    "2x – 5z = 7\n",
    "11x +4y – 7z = 15\n"
   ]
  },
  {
   "cell_type": "code",
   "execution_count": 14,
   "metadata": {},
   "outputs": [],
   "source": [
    "M2 = np.array([[1, 2, -1], [3, -4, 0], [8, -5, 2], [2, 0, -5], [11, 4, -7]])\n",
    "V2 = np.array([1, 7, 12, 7, 15])"
   ]
  },
  {
   "cell_type": "code",
   "execution_count": 15,
   "metadata": {},
   "outputs": [
    {
     "name": "stderr",
     "output_type": "stream",
     "text": [
      "C:\\Users\\biser1\\Anaconda3\\lib\\site-packages\\ipykernel_launcher.py:1: FutureWarning: `rcond` parameter will change to the default of machine precision times ``max(M, N)`` where M and N are the input matrix dimensions.\n",
      "To use the future default and silence this warning we advise to pass `rcond=None`, to keep using the old, explicitly pass `rcond=-1`.\n",
      "  \"\"\"Entry point for launching an IPython kernel.\n"
     ]
    },
    {
     "data": {
      "text/plain": [
       "(array([ 1.13919353, -0.90498444, -0.9009803 ]),\n",
       " array([0.71523211]),\n",
       " 3,\n",
       " array([15.2817306 ,  9.59852942,  3.65197794]))"
      ]
     },
     "execution_count": 15,
     "metadata": {},
     "output_type": "execute_result"
    }
   ],
   "source": [
    "R2 = np.linalg.lstsq(M2, V2)\n",
    "R2"
   ]
  },
  {
   "cell_type": "code",
   "execution_count": 16,
   "metadata": {},
   "outputs": [
    {
     "name": "stdout",
     "output_type": "stream",
     "text": [
      "Псевдорешение СЛАУ:x + 2y – z = 1 3x – 4y = 7 8x – 5y + 2z = 12 2x – 5z = 7 11x +4y – 7z = 15\n",
      "равно =   [ 1.13919353 -0.90498444 -0.9009803 ]\n"
     ]
    }
   ],
   "source": [
    "print('Псевдорешение СЛАУ:x + 2y – z = 1 3x – 4y = 7 8x – 5y + 2z = 12 2x – 5z = 7 11x +4y – 7z = 15\\nравно =  ', R2[0])"
   ]
  },
  {
   "cell_type": "code",
   "execution_count": null,
   "metadata": {},
   "outputs": [],
   "source": []
  },
  {
   "cell_type": "markdown",
   "metadata": {},
   "source": [
    "3. Сколько решений имеет линейная система:\n"
   ]
  },
  {
   "cell_type": "code",
   "execution_count": 17,
   "metadata": {},
   "outputs": [],
   "source": [
    "M3 = np.array([[1, 2, 3], [4, 5, 6], [7, 8, 9]])\n",
    "V3 = np.array([12, 2, 1])"
   ]
  },
  {
   "cell_type": "code",
   "execution_count": 18,
   "metadata": {},
   "outputs": [],
   "source": [
    "def determinant(M):\n",
    "    if abs(round(np.linalg.det(M))) == 0:\n",
    "        print('Система уравнений вырожденная')\n",
    "    else:\n",
    "        print('Система уравений имеет решение')"
   ]
  },
  {
   "cell_type": "code",
   "execution_count": 19,
   "metadata": {},
   "outputs": [
    {
     "name": "stdout",
     "output_type": "stream",
     "text": [
      "Система уравнений вырожденная\n"
     ]
    }
   ],
   "source": [
    "determinant(M3)"
   ]
  },
  {
   "cell_type": "code",
   "execution_count": 20,
   "metadata": {},
   "outputs": [],
   "source": [
    "# Изменим вектор правой части, чтобы система стала совместной\n",
    "M4 = np.array([[1, 2, 3], [4, 5, 6], [7, 8, 9]])\n",
    "V4 = np.array([[12, 24, 36]])"
   ]
  },
  {
   "cell_type": "code",
   "execution_count": 21,
   "metadata": {},
   "outputs": [
    {
     "data": {
      "text/plain": [
       "array([[ 1,  2,  3, 12],\n",
       "       [ 4,  5,  6, 24],\n",
       "       [ 7,  8,  9, 36]])"
      ]
     },
     "execution_count": 21,
     "metadata": {},
     "output_type": "execute_result"
    }
   ],
   "source": [
    "C4 = np.concatenate((M4, V4.T), axis=1)\n",
    "C4"
   ]
  },
  {
   "cell_type": "code",
   "execution_count": 22,
   "metadata": {},
   "outputs": [
    {
     "data": {
      "text/plain": [
       "(2, 2)"
      ]
     },
     "execution_count": 22,
     "metadata": {},
     "output_type": "execute_result"
    }
   ],
   "source": [
    "np.linalg.matrix_rank(M4, 0.0001), np.linalg.matrix_rank(C4, 0.0001)"
   ]
  },
  {
   "cell_type": "code",
   "execution_count": null,
   "metadata": {},
   "outputs": [],
   "source": []
  },
  {
   "cell_type": "markdown",
   "metadata": {},
   "source": [
    "4. Вычислите LU-разложение матрицы:\n",
    "\n",
    "После этого придумайте вектор правых частей и решите полученную линейную систему трех уравнений с данной матрицей.\n"
   ]
  },
  {
   "cell_type": "code",
   "execution_count": 23,
   "metadata": {},
   "outputs": [],
   "source": [
    "M5 = np.array([[1, 2, 3], [2, 16, 21], [4, 28, 73]])"
   ]
  },
  {
   "cell_type": "code",
   "execution_count": 24,
   "metadata": {},
   "outputs": [
    {
     "name": "stdout",
     "output_type": "stream",
     "text": [
      "P [[0. 1. 0.]\n",
      " [0. 0. 1.]\n",
      " [1. 0. 0.]]\n",
      "L [[ 1.    0.    0.  ]\n",
      " [ 0.25  1.    0.  ]\n",
      " [ 0.5  -0.4   1.  ]]\n",
      "U [[  4.    28.    73.  ]\n",
      " [  0.    -5.   -15.25]\n",
      " [  0.     0.   -21.6 ]]\n"
     ]
    }
   ],
   "source": [
    "P, L, U = scipy.linalg.lu(M5)\n",
    "print('P', P)\n",
    "print('L', L)\n",
    "print('U', U)"
   ]
  },
  {
   "cell_type": "code",
   "execution_count": 25,
   "metadata": {},
   "outputs": [],
   "source": [
    "# Вектор правой части\n",
    "V5 = np.array([12, 45, 33])"
   ]
  },
  {
   "cell_type": "code",
   "execution_count": 26,
   "metadata": {},
   "outputs": [],
   "source": [
    "y = np.linalg.solve(L, V5)"
   ]
  },
  {
   "cell_type": "code",
   "execution_count": 27,
   "metadata": {},
   "outputs": [],
   "source": [
    "x = np.linalg.solve(U, y)"
   ]
  },
  {
   "cell_type": "code",
   "execution_count": 28,
   "metadata": {},
   "outputs": [
    {
     "name": "stdout",
     "output_type": "stream",
     "text": [
      "Решение СЛАУ  [55.51388889 -2.21527778 -2.02777778]\n"
     ]
    }
   ],
   "source": [
    "print('Решение СЛАУ ', x)"
   ]
  },
  {
   "cell_type": "code",
   "execution_count": null,
   "metadata": {},
   "outputs": [],
   "source": []
  },
  {
   "cell_type": "markdown",
   "metadata": {},
   "source": [
    "5. Найдите нормальное псевдорешение недоопределенной системы:\n",
    "x + 2y – z = 1\n",
    "8x – 5y + 2z = 12\n",
    "Для этого определите функцию Q(x,y,z), равную норме решения, и найдите ее минимум. \n"
   ]
  },
  {
   "cell_type": "code",
   "execution_count": 29,
   "metadata": {},
   "outputs": [],
   "source": [
    "M6 = np.array([[1, 2, -1], [8, -5, 2]])\n",
    "V6 = np.array([1, 12])"
   ]
  },
  {
   "cell_type": "code",
   "execution_count": null,
   "metadata": {},
   "outputs": [],
   "source": []
  },
  {
   "cell_type": "code",
   "execution_count": null,
   "metadata": {},
   "outputs": [],
   "source": []
  },
  {
   "cell_type": "code",
   "execution_count": null,
   "metadata": {},
   "outputs": [],
   "source": []
  },
  {
   "cell_type": "markdown",
   "metadata": {},
   "source": [
    "6. Найдите одно из псевдорешений вырожденной системы:\n",
    "\n",
    "Попробуйте также отыскать и нормальное псевдорешение.\n"
   ]
  },
  {
   "cell_type": "code",
   "execution_count": null,
   "metadata": {},
   "outputs": [],
   "source": []
  },
  {
   "cell_type": "code",
   "execution_count": null,
   "metadata": {},
   "outputs": [],
   "source": []
  },
  {
   "cell_type": "code",
   "execution_count": null,
   "metadata": {},
   "outputs": [],
   "source": []
  }
 ],
 "metadata": {
  "kernelspec": {
   "display_name": "Python 3",
   "language": "python",
   "name": "python3"
  },
  "language_info": {
   "codemirror_mode": {
    "name": "ipython",
    "version": 3
   },
   "file_extension": ".py",
   "mimetype": "text/x-python",
   "name": "python",
   "nbconvert_exporter": "python",
   "pygments_lexer": "ipython3",
   "version": "3.7.1"
  }
 },
 "nbformat": 4,
 "nbformat_minor": 2
}
